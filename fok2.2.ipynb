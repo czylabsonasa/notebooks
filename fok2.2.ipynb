{
 "cells": [
  {
   "cell_type": "code",
   "execution_count": null,
   "metadata": {},
   "outputs": [],
   "source": [
    "# egy gráf létrehozása\n",
    "using LightGraphs\n",
    "n,p=10,0.5\n",
    "G=SimpleGraph(n)\n",
    "for i=1:n-1, j=i+1:n\n",
    "  rand()<p && add_edge!(G,i,j) \n",
    "end\n",
    "using GraphPlot\n",
    "gplot(G)"
   ]
  },
  {
   "cell_type": "code",
   "execution_count": null,
   "metadata": {},
   "outputs": [],
   "source": [
    "# szimuláció\n",
    "function gen(n,p)\n",
    "  G=SimpleGraph(n)\n",
    "  for i=1:n-1, j=i+1:n\n",
    "    rand()<p && add_edge!(G,i,j) \n",
    "  end\n",
    "  G\n",
    "end\n",
    "n,p,ISM=10,0.5,1000\n",
    "s=0.0\n",
    "for ism=1:ISM\n",
    "  G=gen(n,p)\n",
    "  d=degree(G)\n",
    "  s+= sum(d.*(d .- 1))\n",
    "end\n",
    "println(0.5*s/ISM)"
   ]
  }
 ],
 "metadata": {
  "kernelspec": {
   "display_name": "Julia 1.1.1",
   "language": "julia",
   "name": "julia-1.1"
  },
  "language_info": {
   "file_extension": ".jl",
   "mimetype": "application/julia",
   "name": "julia",
   "version": "1.1.1"
  },
  "toc": {
   "base_numbering": 1,
   "nav_menu": {},
   "number_sections": true,
   "sideBar": true,
   "skip_h1_title": true,
   "title_cell": "Table of Contents",
   "title_sidebar": "Contents",
   "toc_cell": false,
   "toc_position": {},
   "toc_section_display": true,
   "toc_window_display": false
  }
 },
 "nbformat": 4,
 "nbformat_minor": 2
}
