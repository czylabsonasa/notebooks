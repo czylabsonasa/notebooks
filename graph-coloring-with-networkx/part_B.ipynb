{
 "cells": [
  {
   "cell_type": "markdown",
   "id": "billion-stupid",
   "metadata": {},
   "source": [
    "## part_B\n",
    "* continuation of [part_A](part_A.ipynb)\n",
    "* the graph is 9-colorable, it would be interesting to \n",
    "  know that 8 or less color is enough or not.\n",
    "* for this purpose, we develop (actually i wrote it for a codesignal interview question...) a simple function in julia, that can be used to compute the chromatic number."
   ]
  },
  {
   "cell_type": "code",
   "execution_count": 7,
   "id": "weird-democrat",
   "metadata": {},
   "outputs": [
    {
     "name": "stderr",
     "output_type": "stream",
     "text": [
      "\u001b[32m\u001b[1m  Activating\u001b[22m\u001b[39m project at `~/Asztal/git/notebooks/graph-coloring-with-networkx`\n"
     ]
    }
   ],
   "source": [
    "import Pkg; Pkg.activate(\".\")\n",
    "Pkg.instantiate()\n",
    "using DelimitedFiles\n",
    "using Graphs, GraphPlot, Colors\n",
    "using DataFrames\n",
    "using StatsBase\n"
   ]
  },
  {
   "cell_type": "code",
   "execution_count": 26,
   "id": "vertical-access",
   "metadata": {
    "code_folding": []
   },
   "outputs": [
    {
     "data": {
      "text/plain": [
       "{40, 273} undirected simple Int64 graph"
      ]
     },
     "execution_count": 26,
     "metadata": {},
     "output_type": "execute_result"
    }
   ],
   "source": [
    "# reading and manipulating as in project_A:\n",
    "d0,h0=readdlm(\n",
    "  \"synthetic_school_enrollment_data.csv\",','; \n",
    "  header=true\n",
    ")\n",
    "\n",
    "# convert the original data\n",
    "\n",
    "# drop out the first three columns (name,major/minor)\n",
    "# and convert it to a valid logical matrix\n",
    "data=map(\n",
    "  x->if x==\"True\"\n",
    "    true\n",
    "  elseif x==\"False\"\n",
    "    false\n",
    "  else\n",
    "    throw(error(\"unknown value\"))\n",
    "  end, \n",
    "  d0[:,4:end]\n",
    ")\n",
    "\n",
    "header=h0[4:end]\n",
    "num_of_students,num_of_courses=size(data)\n",
    "\n",
    "# build the graph:\n",
    "# the nodes are the courses with an edge between them if there is a student visiting either.\n",
    "\n",
    "# first, collect the set of students visiting each courses\n",
    "S=[Set((1:num_of_students)[col]) for col in eachcol(data)]\n",
    "\n",
    "\n",
    "# then, use the sets\n",
    "G=Graph()\n",
    "add_vertices!(G,num_of_courses)\n",
    "for i in 1:num_of_courses-1, j in i+1:num_of_courses\n",
    "  !isdisjoint(S[i],S[j]) && add_edge!(G,i,j)\n",
    "end\n",
    "\n",
    "G"
   ]
  },
  {
   "cell_type": "code",
   "execution_count": 67,
   "id": "better-evaluation",
   "metadata": {
    "code_folding": [
     4,
     63
    ]
   },
   "outputs": [
    {
     "data": {
      "text/plain": [
       "graph_col_bt (generic function with 2 methods)"
      ]
     },
     "execution_count": 67,
     "metadata": {},
     "output_type": "execute_result"
    }
   ],
   "source": [
    "# the backtracking solution\n",
    "# it is a naive implementation w/o any smartness,\n",
    "# just administration\n",
    "\n",
    "function graphcol_bt(G::Vector{Vector{Int}},maxcol::Int) # max number of colors\n",
    "# the actual color are in 1..maxcol\n",
    "  N=length(G)\n",
    "  \n",
    "  forbidden=fill(0,maxcol,N) \n",
    "  # colors currently forbidden for a particular node\n",
    "  # forbidden=already reserved by some of its neighbour\n",
    "  # reserved if >0\n",
    "  \n",
    "  # actual and returned colorings\n",
    "  color=fill(0,N) # for work with\n",
    "  color_ret=fill(0,N)  \n",
    "\n",
    "  # modifies the forbidden and color arrays\n",
    "  function paint(node,c)\n",
    "    oldc=color[node]\n",
    "    if oldc>0\n",
    "      for t in G[node]\n",
    "        forbidden[oldc,t]-=1\n",
    "      end\n",
    "    end\n",
    "    \n",
    "    color[node]=c\n",
    "    (c==0) && return\n",
    "    \n",
    "    for t in G[node]\n",
    "      forbidden[c,t]+=1\n",
    "    end\n",
    "  end\n",
    "\n",
    "  found=false\n",
    "  paint(1,1)\n",
    "\n",
    "  function trav(node)\n",
    "    if node>N\n",
    "      found=true\n",
    "      color_ret.=color\n",
    "      return\n",
    "    end\n",
    "\n",
    "    \n",
    "    for c in 1:maxcol\n",
    "      (forbidden[c,node]>0) && continue\n",
    "      paint(node,c)\n",
    "      trav(node+1)\n",
    "      found && break\n",
    "    end\n",
    "    \n",
    "    paint(node,0) # restore the original state\n",
    "  end # of trav\n",
    "  \n",
    "  trav(2)\n",
    "  (found,color_ret)\n",
    "end\n",
    "\n",
    "\n",
    "# a method (variant) that takes a Graph() instance and returns a similar\n",
    "# object that is returned by Graphs.random_greedy_color\n",
    "# (imitating by namedtuple)\n",
    "function graphcol_bt(G::Graph,maxcol::Int) # max number of colors\n",
    "  GG=[Int[] for n in 1:nv(G)]\n",
    "  for e in edges(G)\n",
    "    a,b=src(e),dst(e)\n",
    "    push!(GG[a],b)\n",
    "    push!(GG[b],a)    \n",
    "  end\n",
    "  found,color=graph_col_bt(GG,maxcol)\n",
    "  if found\n",
    "    (num_colors=length(Set(color)),colors=color)\n",
    "  else\n",
    "    (num_colors=-1,colors=nothing)\n",
    "  end\n",
    "end\n"
   ]
  },
  {
   "cell_type": "code",
   "execution_count": 78,
   "id": "lesbian-lawyer",
   "metadata": {},
   "outputs": [
    {
     "name": "stdout",
     "output_type": "stream",
     "text": [
      "  9.547886 seconds (131 allocations: 22.523 KiB)\n",
      "(num_colors = 9, colors = [1, 2, 3, 4, 5, 6, 7, 8, 2, 3, 1, 4, 7, 6, 5, 9, 8, 4, 1, 2, 3, 7, 5, 8, 9, 6, 1, 5, 4, 3, 8, 7, 9, 2, 4, 6, 7, 2, 1, 5])\n",
      "  3.603913 seconds (124 allocations: 21.094 KiB)\n",
      "(num_colors = -1, colors = nothing)\n"
     ]
    }
   ],
   "source": [
    "@time the_coloring=graphcol_bt(G,9);println(the_coloring)\n",
    "@time failed=graphcol_bt(G,8);println(failed)\n",
    "\n",
    "\n",
    "# on my machine it takes ~10 sec to compute the 9 coloring, \n",
    "# and ~4 sec to decide about the impossibility of the 8 coloring."
   ]
  },
  {
   "cell_type": "code",
   "execution_count": 81,
   "id": "hearing-conducting",
   "metadata": {
    "scrolled": true
   },
   "outputs": [
    {
     "data": {
      "text/html": [
       "<div><div style = \"float: left;\"><span>9×6 DataFrame</span></div><div style = \"clear: both;\"></div></div><div class = \"data-frame\" style = \"overflow-x: scroll;\"><table class = \"data-frame\" style = \"margin-bottom: 6px;\"><thead><tr class = \"header\"><th class = \"rowNumber\" style = \"font-weight: bold; text-align: right;\">Row</th><th style = \"text-align: left;\">Exam</th><th style = \"text-align: left;\">Room-1</th><th style = \"text-align: left;\">Room-2</th><th style = \"text-align: left;\">Room-3</th><th style = \"text-align: left;\">Room-4</th><th style = \"text-align: left;\">Room-5</th></tr><tr class = \"subheader headerLastRow\"><th class = \"rowNumber\" style = \"font-weight: bold; text-align: right;\"></th><th title = \"String\" style = \"text-align: left;\">String</th><th title = \"String\" style = \"text-align: left;\">String</th><th title = \"String\" style = \"text-align: left;\">String</th><th title = \"String\" style = \"text-align: left;\">String</th><th title = \"String\" style = \"text-align: left;\">String</th><th title = \"String\" style = \"text-align: left;\">String</th></tr></thead><tbody><tr><td class = \"rowNumber\" style = \"font-weight: bold; text-align: right;\">1</td><td style = \"text-align: left;\">Exam-1</td><td style = \"text-align: left;\">Biology of the Cell</td><td style = \"text-align: left;\">Classical Mechanics</td><td style = \"text-align: left;\">Calculus II</td><td style = \"text-align: left;\">Programming Introduction</td><td style = \"text-align: left;\">Tectonics</td></tr><tr><td class = \"rowNumber\" style = \"font-weight: bold; text-align: right;\">2</td><td style = \"text-align: left;\">Exam-2</td><td style = \"text-align: left;\">Molecular Biology</td><td style = \"text-align: left;\">Quantum Mechanics</td><td style = \"text-align: left;\">Probability I</td><td style = \"text-align: left;\">Artificial Inteligence</td><td style = \"text-align: left;\">Glaciology</td></tr><tr><td class = \"rowNumber\" style = \"font-weight: bold; text-align: right;\">3</td><td style = \"text-align: left;\">Exam-3</td><td style = \"text-align: left;\">Evolution</td><td style = \"text-align: left;\">Thermodynamics</td><td style = \"text-align: left;\">Probability II</td><td style = \"text-align: left;\">Programming in C++</td><td style = \"text-align: left;\">-</td></tr><tr><td class = \"rowNumber\" style = \"font-weight: bold; text-align: right;\">4</td><td style = \"text-align: left;\">Exam-4</td><td style = \"text-align: left;\">Biochemistry</td><td style = \"text-align: left;\">Programming for Physics</td><td style = \"text-align: left;\">Calculus I</td><td style = \"text-align: left;\">Software Engineering</td><td style = \"text-align: left;\">Ecology</td></tr><tr><td class = \"rowNumber\" style = \"font-weight: bold; text-align: right;\">5</td><td style = \"text-align: left;\">Exam-5</td><td style = \"text-align: left;\">Neurobiology</td><td style = \"text-align: left;\">Material Science</td><td style = \"text-align: left;\">Statistics II</td><td style = \"text-align: left;\">Algorithms</td><td style = \"text-align: left;\">Weather Systems</td></tr><tr><td class = \"rowNumber\" style = \"font-weight: bold; text-align: right;\">6</td><td style = \"text-align: left;\">Exam-6</td><td style = \"text-align: left;\">Animal Behavior</td><td style = \"text-align: left;\">Complex Systems</td><td style = \"text-align: left;\">Programming for Mathematics</td><td style = \"text-align: left;\">Chemical Geology</td><td style = \"text-align: left;\">-</td></tr><tr><td class = \"rowNumber\" style = \"font-weight: bold; text-align: right;\">7</td><td style = \"text-align: left;\">Exam-7</td><td style = \"text-align: left;\">Genetics</td><td style = \"text-align: left;\">Linear Algebra for the Sciences</td><td style = \"text-align: left;\">Statistics I</td><td style = \"text-align: left;\">Data Science</td><td style = \"text-align: left;\">Physical Geology</td></tr><tr><td class = \"rowNumber\" style = \"font-weight: bold; text-align: right;\">8</td><td style = \"text-align: left;\">Exam-8</td><td style = \"text-align: left;\">Bioinformatics</td><td style = \"text-align: left;\">Robotics</td><td style = \"text-align: left;\">Linear Algebra</td><td style = \"text-align: left;\">Numerical Methods</td><td style = \"text-align: left;\">-</td></tr><tr><td class = \"rowNumber\" style = \"font-weight: bold; text-align: right;\">9</td><td style = \"text-align: left;\">Exam-9</td><td style = \"text-align: left;\">Nanotechnologies</td><td style = \"text-align: left;\">Geometry</td><td style = \"text-align: left;\">Machine Learning</td><td style = \"text-align: left;\">-</td><td style = \"text-align: left;\">-</td></tr></tbody></table></div>"
      ],
      "text/latex": [
       "\\begin{tabular}{r|ccccc}\n",
       "\t& Exam & Room-1 & Room-2 & Room-3 & \\\\\n",
       "\t\\hline\n",
       "\t& String & String & String & String & \\\\\n",
       "\t\\hline\n",
       "\t1 & Exam-1 & Biology of the Cell & Classical Mechanics & Calculus II & $\\dots$ \\\\\n",
       "\t2 & Exam-2 & Molecular Biology & Quantum Mechanics & Probability I & $\\dots$ \\\\\n",
       "\t3 & Exam-3 & Evolution & Thermodynamics & Probability II & $\\dots$ \\\\\n",
       "\t4 & Exam-4 & Biochemistry & Programming for Physics & Calculus I & $\\dots$ \\\\\n",
       "\t5 & Exam-5 & Neurobiology & Material Science & Statistics II & $\\dots$ \\\\\n",
       "\t6 & Exam-6 & Animal Behavior & Complex Systems & Programming for Mathematics & $\\dots$ \\\\\n",
       "\t7 & Exam-7 & Genetics & Linear Algebra for the Sciences & Statistics I & $\\dots$ \\\\\n",
       "\t8 & Exam-8 & Bioinformatics & Robotics & Linear Algebra & $\\dots$ \\\\\n",
       "\t9 & Exam-9 & Nanotechnologies & Geometry & Machine Learning & $\\dots$ \\\\\n",
       "\\end{tabular}\n"
      ],
      "text/plain": [
       "\u001b[1m9×6 DataFrame\u001b[0m\n",
       "\u001b[1m Row \u001b[0m│\u001b[1m Exam   \u001b[0m\u001b[1m Room-1              \u001b[0m\u001b[1m Room-2                          \u001b[0m\u001b[1m Room-3   \u001b[0m ⋯\n",
       "     │\u001b[90m String \u001b[0m\u001b[90m String              \u001b[0m\u001b[90m String                          \u001b[0m\u001b[90m String   \u001b[0m ⋯\n",
       "─────┼──────────────────────────────────────────────────────────────────────────\n",
       "   1 │ Exam-1  Biology of the Cell  Classical Mechanics              Calculus  ⋯\n",
       "   2 │ Exam-2  Molecular Biology    Quantum Mechanics                Probabili\n",
       "   3 │ Exam-3  Evolution            Thermodynamics                   Probabili\n",
       "   4 │ Exam-4  Biochemistry         Programming for Physics          Calculus\n",
       "   5 │ Exam-5  Neurobiology         Material Science                 Statistic ⋯\n",
       "   6 │ Exam-6  Animal Behavior      Complex Systems                  Programmi\n",
       "   7 │ Exam-7  Genetics             Linear Algebra for the Sciences  Statistic\n",
       "   8 │ Exam-8  Bioinformatics       Robotics                         Linear Al\n",
       "   9 │ Exam-9  Nanotechnologies     Geometry                         Machine L ⋯\n",
       "\u001b[36m                                                               3 columns omitted\u001b[0m"
      ]
     },
     "execution_count": 81,
     "metadata": {},
     "output_type": "execute_result"
    }
   ],
   "source": [
    "# we need maxcolsize rooms\n",
    "mincolsize,maxcolsize=extrema(\n",
    "  nc for (c,nc) in the_coloring.colors|>countmap\n",
    ")\n",
    "\n",
    "\n",
    "# build the final table\n",
    "# exams for courses with the color 'k' will be held on the 'k'-th date given\n",
    "table=fill(\"-\",the_coloring.num_colors,maxcolsize) # indices for filling in\n",
    "idx=fill(0,the_coloring.num_colors)\n",
    "for i in 1:num_of_courses\n",
    "  ri=the_coloring.colors[i]\n",
    "  ci=(idx[ri]+=1)\n",
    "  table[ri,ci]=header[i]\n",
    "end\n",
    "\n",
    "df=DataFrame(\n",
    "  hcat(\"Exam-\".*string.(1:the_coloring.num_colors),table),\n",
    "  vcat(\"Exam\",\"Room-\".*string.(1:maxcolsize)))\n",
    "\n",
    "  "
   ]
  },
  {
   "cell_type": "markdown",
   "id": "prompt-gathering",
   "metadata": {},
   "source": [
    "#### Conclusion\n",
    "* for this graph instance *this* backtracking solution is very slow, \n",
    "  but after executing it we can be sure that fewer than 9 colors (exam dates) is not enough."
   ]
  }
 ],
 "metadata": {
  "kernelspec": {
   "display_name": "Julia 1.9.0",
   "language": "julia",
   "name": "julia-1.9"
  },
  "language_info": {
   "file_extension": ".jl",
   "mimetype": "application/julia",
   "name": "julia",
   "version": "1.9.0"
  },
  "toc": {
   "base_numbering": 1,
   "nav_menu": {},
   "number_sections": false,
   "sideBar": true,
   "skip_h1_title": false,
   "title_cell": "Table of Contents",
   "title_sidebar": "Contents",
   "toc_cell": false,
   "toc_position": {},
   "toc_section_display": true,
   "toc_window_display": false
  },
  "varInspector": {
   "cols": {
    "lenName": 16,
    "lenType": 16,
    "lenVar": 40
   },
   "kernels_config": {
    "python": {
     "delete_cmd_postfix": "",
     "delete_cmd_prefix": "del ",
     "library": "var_list.py",
     "varRefreshCmd": "print(var_dic_list())"
    },
    "r": {
     "delete_cmd_postfix": ") ",
     "delete_cmd_prefix": "rm(",
     "library": "var_list.r",
     "varRefreshCmd": "cat(var_dic_list()) "
    }
   },
   "types_to_exclude": [
    "module",
    "function",
    "builtin_function_or_method",
    "instance",
    "_Feature"
   ],
   "window_display": false
  }
 },
 "nbformat": 4,
 "nbformat_minor": 5
}
