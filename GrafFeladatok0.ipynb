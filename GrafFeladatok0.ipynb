{
 "cells": [
  {
   "cell_type": "markdown",
   "metadata": {},
   "source": [
    "## Jelölések, fogalmak\n",
    "1. [Egyszerű](http://mathworld.wolfram.com/SimpleGraph.html) gráf:<br> \n",
    "    irányítatlan, súlyozatlan, hurok és többszörös élektől mentes.<br>\n",
    "    Gráfon ilyen gráfot értünk - hacsak mást nem mondunk.\n",
    "1. $G=(V,E)$: $V$ a csúcsok halmaza, $E$ pedig éleké, ami itt $\\{v,w\\}$ alakú halmazok halmaza $v,w\\in V,\\ v\\neq w$.    \n",
    "1.  \n",
    "    - walk,trail,path,circle\n",
    "    - az $v,w$ csúcsok **szomszédosak** ha $\\{v,w\\}$ éle a gráfnak.\n",
    "    - **séta**: csúcsok olyan $v_1,\\ldots,v_k$ sorozata, melyre $v_i,v_{i+1},\\ \\ i=1,\\ldots k-1$, \n",
    "       szomszédosak, azaz $\\{v_i,v_{i+1}\\}$ egy él.<br>\n",
    "       Hossza a benne lévő élek száma. Jele $v_1\\leadsto v_k$.\n",
    "    - **vonal**: **különböző** élekből álló séta.\n",
    "    - **út**: **különböző** csúcsokból álló séta.\n",
    "    - **kör**: olyan vonal melynek a kezdő és végpontja **azonos**, de minden más pont csak **egyszer** szerepel benne.\n",
    "1. Egy gráf\n",
    "    - **összefüggő**, ha bármely két pontja között van séta.\n",
    "    - **fa**: ha összefüggő és körmentes.\n",
    "1. $\\delta(G)$ a minimális fokszám $G$-ben\n",
    "1. $\\Delta(G)$ a maximális fokszám $G$-ben\n",
    "1. $N_G(v)$ a $G$-beli $v$ csúcs szomszédainak halmaza, ha nem okoz félreértést röviden $N(v)$.\n",
    "1. $d_G(v)=|N_G(v)|$ a $v$ csúcs fokszáma, ha nem okoz félreértést röviden $d(v)$ vagy $d_v$.\n",
    "   "
   ]
  },
  {
   "cell_type": "markdown",
   "metadata": {},
   "source": [
    "## Feladatok L0"
   ]
  },
  {
   "cell_type": "markdown",
   "metadata": {},
   "source": [
    "<a id='FOK0'></a>\n",
    "### Fokszámok és élek\n",
    "$\\sum_{v\\in V}d_v=2|E|$\n",
    "<br>\n",
    "[megoldás](#FOK0_M)"
   ]
  },
  {
   "cell_type": "markdown",
   "metadata": {},
   "source": [
    "<a id='FOK1'></a>\n",
    "### Egyforma fokszámok 1\n",
    "Egy $G$ egyszerű gráfban van két egyforma fokszámú csúcs.\n",
    "<br>\n",
    "[megoldás](#FOK1_M)"
   ]
  },
  {
   "cell_type": "markdown",
   "metadata": {},
   "source": [
    "<a id='FOK3'></a>\n",
    "### Elsőfokú csúcsok\n",
    "Ha $G$ egy körmentes gráf, melyre $E\\neq\\emptyset$, akkor \n",
    "$G$-ben van $2$ elsőfokú csúcs.<br>\n",
    "[megoldás](#FOK3_M)"
   ]
  },
  {
   "cell_type": "markdown",
   "metadata": {},
   "source": [
    "<a id='WALK1'></a>\n",
    "### Séták és utak\n",
    "Ha $v\\neq w$-re létezik a $v\\leadsto w$ séta, akkor van $v\\leadsto w$ út is.\n",
    "<br>\n",
    "[megoldás](#WALK1_M)"
   ]
  },
  {
   "cell_type": "markdown",
   "metadata": {},
   "source": [
    "<a id='CON1'></a>\n",
    "### Összefüggőség és komplementer\n",
    "Ha $G$ nem összefüggő, akkor $G^c$ összefüggő.<br>\n",
    "Másszóval: egy gráf vagy a komplementere összefüggő.\n",
    "<br>\n",
    "[megoldás](#CON1_M)"
   ]
  },
  {
   "cell_type": "markdown",
   "metadata": {},
   "source": [
    "<a id='TREE1'></a>\n",
    "### Fák\n",
    "Egy $n$ pontú összefüggő gráf pont akkor fa ha $n-1$ éle van.\n",
    "<br>\n",
    "\n",
    "[megoldás](#TREE1_M)"
   ]
  },
  {
   "cell_type": "markdown",
   "metadata": {},
   "source": [
    "## Megoldások"
   ]
  },
  {
   "cell_type": "markdown",
   "metadata": {},
   "source": [
    "<a id='FOK0_M'> </a>\n",
    "### Fokszámok és élek\n",
    "A baloldalon minden élet kétszer veszünk figyelembe.(A formula\n",
    "nem csak egyszerű gráfban érvényes)\n",
    "<br>\n",
    "[vissza a feladathoz](#FOK0)\n"
   ]
  },
  {
   "cell_type": "markdown",
   "metadata": {},
   "source": [
    "<a id='FOK1_M'> </a>\n",
    "### Egyforma fokszámok 1\n",
    "Legyen $n$ a csúcsok száma. A lehetséges fokszámok $0,\\ldots n-1$, viszont a $0$ és az $n-1$ egyszerre nem lehet jelen. \n",
    "<br>\n",
    "($n$ csúcsot legfeljebb $n-1$ dobozba helyezünk el, ezért valamelyik dobozba legalább kettő kerül)\n",
    "<br>\n",
    "[vissza a feladathoz](#FOK1)\n"
   ]
  },
  {
   "cell_type": "markdown",
   "metadata": {},
   "source": [
    "<a id='FOK3_M'> </a>\n",
    "### Elsőfokú csúcsok\n",
    "Tekintsünk egy $L=v_1,\\ldots,v_d$ leghosszabb utat $G$-ben.\n",
    "Ha $v_1$ nem elsőfokú, akkor van egy $v$ szomszédja, melyre $v\\neq v_2$. <br>\n",
    "A körmentesség miatt $v\\neq v_3,\\ldots,v_d$ is fennáll. Vagyis $L$  nem leghosszabb út.<br>\n",
    "[vissza a feladathoz](#FOK3)\n"
   ]
  },
  {
   "cell_type": "markdown",
   "metadata": {},
   "source": [
    "<a id='WALK1_M'></a>\n",
    "### Séták és utak\n",
    "Legyen $v_0,\\ldots,v_k$ egy séta. Helyezzük egy $S$ verembe $v_0$-t. \n",
    "1. Vegyük a séta következő $v_i$ pontját.\n",
    "1. Ha $v_i\\in S$, dobjuk belőle az összes felette levővel \n",
    "    együtt.\n",
    "1. Tegyük $v_i$-t $S$-be.\n",
    "\n",
    "Az 1-3 lépéseket addig ismételjük míg a séta tart. Az $S$ a végén egy $v_0\\leadsto v_k$ **út**.<br>\n",
    "[vissza a feladathoz](#WALK1)"
   ]
  },
  {
   "cell_type": "markdown",
   "metadata": {},
   "source": [
    "<a id='CON1_M'></a>\n",
    "### Összefüggőség és komplementer\n",
    "$G$ csúcsait két nemüres $G_1,G_2$ részre bonthatjuk. $G^c$-ben az összes $G_1$ és $G_2$ közt haladó él benne van.<br> Ezért nemcsak, hogy összefüggő a $G^c$, hanem bármely két pontja legfeljebb $2$ távolságra van.<br>\n",
    "[vissza a feladathoz](#CON1)"
   ]
  },
  {
   "cell_type": "markdown",
   "metadata": {},
   "source": [
    "<a id='TREE1_M'></a>\n",
    "### Fák\n",
    "Tfh. $G$ fa $n>1$ csúccsal. Távolítsuk el egy elsőfokú pontját és a rá illeszkedő élt. Ami marad: fa. Ezt $n-1$-szer ismételve \n",
    "egy pontra zsugorodik a fánk.<br>\n",
    "\n",
    "Tfh. $G$ éleinek száma $n-1$. Tekintsük egy körét ha van. Ha eltávolítjuk a kör egy élét az összefüggőség nem sérül. (a kör maradék élei átveszik a kidobott él szerepét) Ha ezt $k$-szor kellett ismételni, akkor egy $n$ csúcsú $n-1-k$ élű fát látunk, ami az előző miatt csak $k=0$-nál lehet.\n",
    "\n",
    "\n",
    "[vissza a feladathoz](#TREE1)"
   ]
  },
  {
   "cell_type": "markdown",
   "metadata": {},
   "source": [
    "## Források\n",
    "\n",
    "- a budapesti Fazék [könyvei](https://matkonyv.fazekas.hu/index.html)<br>\n",
    "- [Linköping](http://courses.mai.liu.se/GU/TATA64/Document/ExercisesInGraphTheory2017.pdf)<br>\n",
    "- [PTE](http://tamop412a.ttk.pte.hu/files/Kombinatorika_kesz_jav3_final.pdf)\n"
   ]
  },
  {
   "cell_type": "code",
   "execution_count": null,
   "metadata": {},
   "outputs": [],
   "source": []
  }
 ],
 "metadata": {
  "@webio": {
   "lastCommId": "e10fb4e7121346cab2ecabc8b944c18e",
   "lastKernelId": "b0dcfed8-4c85-4056-ad62-667e47a8e511"
  },
  "kernelspec": {
   "display_name": "Julia 1.1.1",
   "language": "julia",
   "name": "julia-1.1"
  },
  "language_info": {
   "file_extension": ".jl",
   "mimetype": "application/julia",
   "name": "julia",
   "version": "1.1.1"
  },
  "toc": {
   "base_numbering": 1,
   "nav_menu": {},
   "number_sections": true,
   "sideBar": true,
   "skip_h1_title": true,
   "title_cell": "Table of Contents",
   "title_sidebar": "Contents",
   "toc_cell": false,
   "toc_position": {
    "height": "calc(100% - 180px)",
    "left": "10px",
    "top": "150px",
    "width": "275.2px"
   },
   "toc_section_display": true,
   "toc_window_display": true
  }
 },
 "nbformat": 4,
 "nbformat_minor": 2
}
