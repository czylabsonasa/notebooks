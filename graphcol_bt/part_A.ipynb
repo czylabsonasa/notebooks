{
 "cells": [
  {
   "cell_type": "markdown",
   "id": "olympic-delicious",
   "metadata": {},
   "source": [
    "### part_A\n",
    "* separate graph loader for dimacs col format: `loadcol`\n",
    "* the data is from https://mat.gsia.cmu.edu/COLOR/instances.html \n",
    "  (Michael Trick's page)\n",
    "* dimacs is an old/simple quasy file format described [here](https://mat.gsia.cmu.edu/COLOR/general/ccformat.ps) or [here](ccformat.ps)"
   ]
  },
  {
   "cell_type": "code",
   "execution_count": 2,
   "id": "residential-regression",
   "metadata": {},
   "outputs": [
    {
     "name": "stderr",
     "output_type": "stream",
     "text": [
      "\u001b[32m\u001b[1m  Activating\u001b[22m\u001b[39m project at `~/Asztal/git/notebooks/graphcol_bt`\n"
     ]
    }
   ],
   "source": [
    "import Pkg; Pkg.activate(\".\")\n",
    "using Graphs, GraphPlot"
   ]
  },
  {
   "cell_type": "code",
   "execution_count": 3,
   "id": "powerful-vegetable",
   "metadata": {},
   "outputs": [
    {
     "data": {
      "text/plain": [
       "loadcol (generic function with 1 method)"
      ]
     },
     "execution_count": 3,
     "metadata": {},
     "output_type": "execute_result"
    }
   ],
   "source": [
    "function loadcol(gname::String)\n",
    "  _e(msg)=error(\"loadcol: $(msg)\")\n",
    "  !isfile(gname) && e(\"no such file\")\n",
    "  !endswith(gname,\".col\") && _e(\"wrong extension\")\n",
    "  gstring=split(read(gname,String),'\\n',keepempty=false)\n",
    "  E=[]\n",
    "  nV,nE,tV=-1,-1,-1\n",
    "  for line in gstring\n",
    "    startswith(line,'c') && continue\n",
    "    if startswith(line,'p') # only the last counts\n",
    "      nV,nE=parse.(Int,split(line)[3:end])\n",
    "      continue\n",
    "    end\n",
    "    if startswith(line,'e') \n",
    "      a,b=parse.(Int,split(line)[2:end])\n",
    "      push!(E,(a,b))\n",
    "      tV=max(tV,max(a,b))\n",
    "      continue\n",
    "    end\n",
    "  end\n",
    "  if nV<0 || nE<0 || nV!=tV || length(E)!=nE\n",
    "    _e(\"wrong data\")\n",
    "  end\n",
    "  G=Graph()\n",
    "  add_vertices!(G,nV)\n",
    "  for (a,b) in E\n",
    "    add_edge!(G,a,b)\n",
    "  end\n",
    "  G\n",
    "end\n",
    "\n",
    "# function loadgraph(gname::String; format=\"lg\")\n",
    "#   if format==\"lg\"\n",
    "#     loadgraph(gname)\n",
    "#   elseif format==\"col\"\n",
    "#     loadcol(gname)\n",
    "#   else\n",
    "#     error(\"loadgraph: unknown format\")\n",
    "#   end\n",
    "# end"
   ]
  },
  {
   "cell_type": "markdown",
   "id": "smart-cache",
   "metadata": {},
   "source": [
    "#### perform some tests\n",
    "* how effective is `Graphs.random_greedy_color`?\n",
    "* on Trick's site the optimal number of colors are also reported (except for some cases): `mincol`"
   ]
  },
  {
   "cell_type": "code",
   "execution_count": 4,
   "id": "hispanic-category",
   "metadata": {},
   "outputs": [
    {
     "name": "stdout",
     "output_type": "stream",
     "text": [
      "11 20\n",
      "  0.112528 seconds (88.19 k allocations: 5.902 MiB, 99.14% compilation time)\n"
     ]
    },
    {
     "data": {
      "text/plain": [
       "Graphs.Coloring{Int64}(4, [2, 1, 2, 4, 3, 2, 1, 2, 1, 1, 3])"
      ]
     },
     "execution_count": 4,
     "metadata": {},
     "output_type": "execute_result"
    }
   ],
   "source": [
    "G=loadcol(\"col-instances/myciel3.col\")\n",
    "println(nv(G),\" \",ne(G))\n",
    "gplot(G,layout=circular_layout)\n",
    "@time the_coloring=Graphs.random_greedy_color(G,1000)\n",
    "# mincol=4 "
   ]
  },
  {
   "cell_type": "code",
   "execution_count": 5,
   "id": "designing-inventory",
   "metadata": {},
   "outputs": [
    {
     "name": "stdout",
     "output_type": "stream",
     "text": [
      "25 160\n",
      "  0.003870 seconds (27.00 k allocations: 2.228 MiB)\n"
     ]
    },
    {
     "data": {
      "text/plain": [
       "Graphs.Coloring{Int64}(5, [1, 3, 2, 4, 5, 2, 4, 5, 1, 3  …  3, 2, 4, 5, 1, 4, 5, 1, 3, 2])"
      ]
     },
     "execution_count": 5,
     "metadata": {},
     "output_type": "execute_result"
    }
   ],
   "source": [
    "# this file does not conform the specification -> \n",
    "# each edge appears twice\n",
    "G=loadcol(\"col-instances/queen5_5.col\")\n",
    "println(nv(G),\" \",ne(G))\n",
    "gplot(G,layout=circular_layout)\n",
    "@time the_coloring=Graphs.random_greedy_color(G,1000)\n",
    "# mincol=5"
   ]
  },
  {
   "cell_type": "code",
   "execution_count": 6,
   "id": "renewable-chemistry",
   "metadata": {},
   "outputs": [
    {
     "name": "stdout",
     "output_type": "stream",
     "text": [
      "128 2113\n",
      "  0.043442 seconds (130.00 k allocations: 24.659 MiB, 25.28% gc time)\n"
     ]
    },
    {
     "data": {
      "text/plain": [
       "Graphs.Coloring{Int64}(32, [2, 6, 11, 1, 4, 4, 18, 24, 5, 7  …  3, 11, 5, 11, 4, 12, 1, 17, 18, 25])"
      ]
     },
     "execution_count": 6,
     "metadata": {},
     "output_type": "execute_result"
    }
   ],
   "source": [
    "G=loadcol(\"col-instances/miles750.col\")\n",
    "println(nv(G),\" \",ne(G))\n",
    "gplot(G,layout=circular_layout)\n",
    "@time the_coloring=Graphs.random_greedy_color(G,1000)\n",
    "# mincol=31"
   ]
  },
  {
   "cell_type": "code",
   "execution_count": 7,
   "id": "provincial-qualification",
   "metadata": {},
   "outputs": [
    {
     "name": "stdout",
     "output_type": "stream",
     "text": [
      "496 11654\n",
      "  0.196557 seconds (498.00 k allocations: 276.920 MiB, 14.32% gc time)\n"
     ]
    },
    {
     "data": {
      "text/plain": [
       "Graphs.Coloring{Int64}(65, [17, 24, 10, 11, 20, 5, 15, 12, 19, 22  …  1, 1, 1, 12, 1, 1, 1, 1, 1, 7])"
      ]
     },
     "execution_count": 7,
     "metadata": {},
     "output_type": "execute_result"
    }
   ],
   "source": [
    "G=loadcol(\"col-instances/fpsol2.i.1.col\")\n",
    "println(nv(G),\" \",ne(G))\n",
    "gplot(G,layout=circular_layout)\n",
    "@time the_coloring=Graphs.random_greedy_color(G,1000)\n",
    "# mincol=65"
   ]
  },
  {
   "cell_type": "markdown",
   "id": "peripheral-quantity",
   "metadata": {},
   "source": [
    "#### conclusion\n",
    "* for the inspected instances `Graphs.random_greedy_color` is very \n",
    "  effective\n",
    "* do we need an exact solver at all? :-)"
   ]
  }
 ],
 "metadata": {
  "kernelspec": {
   "display_name": "Julia 1.9.0",
   "language": "julia",
   "name": "julia-1.9"
  },
  "language_info": {
   "file_extension": ".jl",
   "mimetype": "application/julia",
   "name": "julia",
   "version": "1.9.0"
  },
  "toc": {
   "base_numbering": 1,
   "nav_menu": {},
   "number_sections": false,
   "sideBar": true,
   "skip_h1_title": false,
   "title_cell": "Table of Contents",
   "title_sidebar": "Contents",
   "toc_cell": false,
   "toc_position": {},
   "toc_section_display": true,
   "toc_window_display": false
  },
  "varInspector": {
   "cols": {
    "lenName": 16,
    "lenType": 16,
    "lenVar": 40
   },
   "kernels_config": {
    "python": {
     "delete_cmd_postfix": "",
     "delete_cmd_prefix": "del ",
     "library": "var_list.py",
     "varRefreshCmd": "print(var_dic_list())"
    },
    "r": {
     "delete_cmd_postfix": ") ",
     "delete_cmd_prefix": "rm(",
     "library": "var_list.r",
     "varRefreshCmd": "cat(var_dic_list()) "
    }
   },
   "types_to_exclude": [
    "module",
    "function",
    "builtin_function_or_method",
    "instance",
    "_Feature"
   ],
   "window_display": false
  }
 },
 "nbformat": 4,
 "nbformat_minor": 5
}
