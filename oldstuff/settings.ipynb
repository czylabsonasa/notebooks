{
 "cells": [
  {
   "cell_type": "markdown",
   "metadata": {},
   "source": [
    "# adjust tab size in code cell\n",
    "\n",
    "https://stackoverflow.com/questions/19068730/how-do-i-change-the-autoindent-to-2-space-in-ipython-notebook\n",
    "\n",
    "ezt futattam a firefox js konzolban:\n",
    "```javascript\n",
    "    var cell = Jupyter.notebook.get_selected_cell();\n",
    "    var config = cell.config;\n",
    "    var patch = {\n",
    "          CodeCell:{\n",
    "            cm_config:{indentUnit:2}\n",
    "          }\n",
    "        }\n",
    "    config.update(patch)\n",
    "```\n",
    "\n",
    "### Q:\n",
    "* visszaállítás: swap(2,null)\n",
    "* perzisztencia?\n"
   ]
  },
  {
   "cell_type": "markdown",
   "metadata": {},
   "source": [
    "# markdown cheatsheet\n",
    "https://github.com/adam-p/markdown-here/wiki/Markdown-Cheatsheet"
   ]
  },
  {
   "cell_type": "code",
   "execution_count": null,
   "metadata": {},
   "outputs": [],
   "source": []
  }
 ],
 "metadata": {
  "@webio": {
   "lastCommId": "0177bfac945a4f148eb38486e21189a1",
   "lastKernelId": "638bdf06-11dd-4bb8-852f-b07b17d1dbd8"
  },
  "kernelspec": {
   "display_name": "Julia 1.0.0",
   "language": "julia",
   "name": "julia-1.0"
  },
  "language_info": {
   "file_extension": ".jl",
   "mimetype": "application/julia",
   "name": "julia",
   "version": "1.0.0"
  }
 },
 "nbformat": 4,
 "nbformat_minor": 2
}
