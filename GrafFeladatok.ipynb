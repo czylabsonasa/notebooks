{
 "cells": [
  {
   "cell_type": "markdown",
   "metadata": {},
   "source": [
    "# Feladatok\n",
    "\n",
    "## Jelölések, fogalmak\n",
    "1. [Egyszerű](http://mathworld.wolfram.com/SimpleGraph.html) gráf:<br> \n",
    "    irányítatlan, súlyozatlan, hurok és többszörös élektől mentes.<br>\n",
    "    Gráfon ilyen gráfot értünk - hacsak mást nem mondunk.\n",
    "1. $G=(V,E)$: $V$ a csúcsok halmaza, $E$ pedig éleké.    \n",
    "1.  \n",
    "    - walk,trail,path,circle\n",
    "    - az $v,w$ csúcsok **szomszédosak** ha $\\{v,w\\}$ éle a gráfnak.\n",
    "    - **séta**: csúcsok olyan $v_1,\\ldots,v_k$ sorozata, melyre $v_i,v_{i+1},\\ \\ i=1,\\ldots k-1$, \n",
    "       szomszédosak, azaz $\\{v_i,v_{i+1}\\}$ egy él.<br>\n",
    "       Hossza a benne lévő élek száma. Jele $v_1\\leadsto v_k$.\n",
    "    - **vonal**: **különböző** élekből álló séta.\n",
    "    - **út**: **különböző** csúcsokból álló séta.\n",
    "    - **kör**: olyan vonal melynek a kezdő és végpontja **azonos**, de minden más pont csak **egyszer** szerepel benne.\n",
    "1. Egy gráf\n",
    "    - **összefüggő**, ha bármely két pontja között van séta.\n",
    "    - **fa**: ha összefüggő és körmentes.\n",
    "1. $\\delta(G)$ a minimális fokszám $G$-ben\n",
    "1. $\\Delta(G)$ a maximális fokszám $G$-ben\n",
    "1. $N_G(v)$ a $G$-beli $v$ csúcs szomszédainak halmaza\n",
    "1. $d(v)=|N_G(v)|$: fokszám\n",
    "   "
   ]
  },
  {
   "cell_type": "markdown",
   "metadata": {},
   "source": [
    "## Feladatok"
   ]
  },
  {
   "cell_type": "markdown",
   "metadata": {},
   "source": [
    "<a id='FOK0'></a>\n",
    "### Fokszámok és élek\n",
    "$\\sum_{v\\in V}d_v=2|E|$\n",
    "<br>\n",
    "[megoldás](#FOK0_M)"
   ]
  },
  {
   "cell_type": "markdown",
   "metadata": {},
   "source": [
    "<a id='FOK1'></a>\n",
    "### Egyforma fokszámok 1\n",
    "Egy $G$ egyszerű gráfban van két egyforma fokszámú csúcs.\n",
    "<br>\n",
    "[megoldás](#FOK1_M)"
   ]
  },
  {
   "cell_type": "markdown",
   "metadata": {},
   "source": [
    "<a id='FOK2'></a>\n",
    "### Egyforma fokszámok 2\n",
    "1. Konstruáljunk minden $n>1$-re olyan gráfot, melyben **pontosan egy** csúcspárnak egyforma a fokszáma.<br>\n",
    "[megoldás](#FOK2_M)\n",
    "1. Kis $n$-ekre ($<20$) generáljunk véletlen gráfot a következőképpen: <br> \n",
    "   rögzítsünk egy $0<p<1$ számot, vegyük sorra a *lehetséges* éleket, melyeket $p$ valószínűséggel    vegyünk hozzá a gráfhoz.<br> Hány egyforma fokú csúcspárra számíthatunk? (+) <br>\n",
    "[megoldás](fok2.2.ipynb)\n"
   ]
  },
  {
   "cell_type": "markdown",
   "metadata": {},
   "source": [
    "<a id='FOK3'></a>\n",
    "### Elsőfokú csúcsok\n",
    "Legyen $G$ egy körmentes gráf, melyre $E\\neq\\emptyset$.\n",
    "1. $G$-ben van $2$ elsőfokú csúcs.\n",
    "1. $G$-ben van $\\Delta(G)$ elsőfokú csúcs.<br>\n",
    "[megoldás](#FOK3_M)"
   ]
  },
  {
   "cell_type": "markdown",
   "metadata": {},
   "source": [
    "<a id='WALK1'></a>\n",
    "### Séták és utak\n",
    "Ha $v\\neq w$-re létezik a $v\\leadsto w$ séta, akkor van $v\\leadsto w$ út is.\n",
    "<br>\n",
    "[megoldás](#WALK1_M)"
   ]
  },
  {
   "cell_type": "markdown",
   "metadata": {},
   "source": [
    "<a id='CON1'></a>\n",
    "### Összefüggőség és komplementer\n",
    "Ha $G$ nem összefüggő, akkor $G^c$ összefüggő.<br>\n",
    "Másszóval: egy gráf vagy a komplementere összefüggő.\n",
    "<br>\n",
    "[megoldás](#CON1_M)"
   ]
  },
  {
   "cell_type": "markdown",
   "metadata": {},
   "source": [
    "<a id='CON2'></a>\n",
    "### Összefüggőség és fokszámok 1\n",
    "1. Ha $\\delta(G)\\ge\\lfloor \\frac{n}{2}\\rfloor$ akkor $G$ összefüggő.\n",
    "1. Adjunk példát olyan **nem-összefüggő** $G$-re, melyre \n",
    "   $\\delta(G)=\\lfloor \\frac{n}{2}\\rfloor-1$.<br>\n",
    "[megoldás](#CON2_M)"
   ]
  },
  {
   "cell_type": "markdown",
   "metadata": {},
   "source": [
    "<a id='CON3'></a>\n",
    "### Összefüggőség és fokszámok 2\n",
    "Ha $N_G(w)+N_G(w)+1\\ge n$ bármely $v\\neq w$-re akkor $G$ összefüggő.<br>\n",
    "[megoldás](#CON3_M)"
   ]
  },
  {
   "cell_type": "markdown",
   "metadata": {},
   "source": [
    "<a id='PATH1'></a>\n",
    "### Utak és fokszámok\n",
    "$G$-ben van $\\delta(G)$ hosszú út.\n",
    "<br>\n",
    "[megoldás](#PATH1_M)"
   ]
  },
  {
   "cell_type": "markdown",
   "metadata": {},
   "source": [
    "<a id='CIRC1'></a>\n",
    "### Körök és fokszámok\n",
    "Ha $\\delta(G)>1$ akkor $G$-ben van $\\delta(G)+1$ hosszú kör.\n",
    "<br>\n",
    "\n",
    "[megoldás](#CIRC1_M)"
   ]
  },
  {
   "cell_type": "markdown",
   "metadata": {},
   "source": [
    "<a id='TREE1'></a>\n",
    "### Fák\n",
    "Egy $n$ pontú összefüggő gráf pont akkor fa ha $n-1$ éle van.\n",
    "<br>\n",
    "\n",
    "[megoldás](#TREE1_M)"
   ]
  },
  {
   "cell_type": "markdown",
   "metadata": {},
   "source": [
    "## Megoldások"
   ]
  },
  {
   "cell_type": "markdown",
   "metadata": {},
   "source": [
    "<a id='FOK0_M'> </a>\n",
    "### Fokszámok és élek\n",
    "A baloldalon minden élet kétszer veszünk figyelembe.(A formula\n",
    "nem csak egyszerű gráfban érvényes)\n",
    "<br>\n",
    "[vissza a feladathoz](#FOK0)\n"
   ]
  },
  {
   "cell_type": "markdown",
   "metadata": {},
   "source": [
    "<a id='FOK1_M'> </a>\n",
    "### Egyforma fokszámok 1\n",
    "Legyen $n$ a csúcsok száma. A lehetséges fokszámok $0,\\ldots n-1$, viszont a $0$ és az $n-1$ egyszerre nem lehet jelen. \n",
    "<br>\n",
    "($n$ csúcsot legfeljebb $n-1$ dobozba helyezünk el, ezért valamelyik dobozba legalább kettő kerül)\n",
    "<br>\n",
    "[vissza a feladathoz](#FOK1)\n"
   ]
  },
  {
   "cell_type": "markdown",
   "metadata": {},
   "source": [
    "<a id='FOK2_M'> </a>\n",
    "### Egyforma fokszámok 2\n",
    "Olyan $n$ csúcsu gráfokat generálunk egymásra épülve melyekben van $1$ izolált pont és nincs telített pont,<br>\n",
    "azaz a maximális fokszám legfeljebb $n-2$. Az ilyen gráfokat *jó*nak nevezzük.\n",
    "1. $n=2$: $2$ izolált csúcs.\n",
    "1. $n=3$: $1$ izolált és $2$ összekötött csúcs.\n",
    "1. tegyük fel, hogy már van $n<k$-ra *jó* gráfunk. Vegyünk fel $1$ izolált pontot, egy $k-2$ csúcsu \n",
    "   *jó* gráfot <br>és egy csúcsot, melyet a $k-2$-es *jó* gráf minden csúcsával összekötünk. \n",
    "   A létrejött $k$-as gráf *jó*.\n",
    "\n",
    "[vissza a feladathoz](#FOK2)\n",
    "\n"
   ]
  },
  {
   "cell_type": "markdown",
   "metadata": {},
   "source": [
    "<a id='FOK3_M'> </a>\n",
    "### Elsőfokú csúcsok\n",
    "1. Tekintsünk egy $L=v_1,\\ldots,v_d$ leghosszabb utat $G$-ben.\n",
    "   Ha $v_1$ nem elsőfokú, akkor van egy $v$ szomszédja, \n",
    "   melyre $v\\neq v_2$. A körmentesség \n",
    "   miatt $v\\neq v_3,\\ldots,v_d$ is fennáll. Vagyis $L$  nem leghosszabb út.<br>\n",
    "1. Legyen $w_0$ egy $d=\\Delta(G)>1$ fokszámú pont és és $w_1$ egy szomszédja. A már meglevő $w_0,w_1,\\ldots,w_k$ utat bővítsük ha lehet. Bővítés alatt azt értjük, hogy számba vesszük $w_k$ szomszédait, ha $1$ van megállunk, ha több is van \n",
    "   választunk egy $w_{k-1}$-től különbözőt, ez az új szomszéd nem lehet az eddigi útnak eleme a körmentesség miatt. \n",
    "\n",
    "[vissza a feladathoz](#FOK3)\n"
   ]
  },
  {
   "cell_type": "markdown",
   "metadata": {},
   "source": [
    "<a id='WALK1_M'></a>\n",
    "### Séták és utak\n",
    "Legyen $v_0,\\ldots,v_k$ egy séta. Helyezzük egy $S$ verembe $v_0$-t. \n",
    "1. Vegyük a séta következő $v_i$ pontját.\n",
    "1. Ha $v_i\\in S$, dobjuk belőle az összes felette levővel \n",
    "    együtt.\n",
    "1. Tegyük $v_i$-t $S$-be.\n",
    "\n",
    "Az 1-3 lépéseket addig ismételjük míg a séta tart. Az $S$ a végén egy $v_0\\leadsto v_k$ **út**.<br>\n",
    "[vissza a feladathoz](#WALK1)"
   ]
  },
  {
   "cell_type": "markdown",
   "metadata": {},
   "source": [
    "<a id='CON1_M'></a>\n",
    "### Összefüggőség és komplementer\n",
    "$G$ csúcsait két nemüres $G_1,G_2$ részre bonthatjuk. $G^c$-ben az összes $G_1$ és $G_2$ közt haladó él benne van.<br> Ezért nemcsak, hogy összefüggő a $G^c$, hanem bármely két pontja legfeljebb $2$ távolságra van.<br>\n",
    "[vissza a feladathoz](#CON1)"
   ]
  },
  {
   "cell_type": "markdown",
   "metadata": {},
   "source": [
    "<a id='CON2_M'></a>\n",
    "### Összefüggőség és fokszámok 1\n",
    "1. Ha $v\\neq w$ akkor $N_G(v)\\cap N_G(w)\\neq\\emptyset$, hiszen egyébként $n\\ge 2\\lfloor\\frac{n}{2}\\rfloor+2>n$ lenne.<br>\n",
    "Ezért bármely két csúcs között legfeljebb $2$ hosszú út vezet.\n",
    "1. Képzeljunk el egy $6$ pontú két diszjunkt $\\triangle$-ből álló gráfot.\n",
    "<br>\n",
    "\n",
    "[vissza a feladathoz](#CON2)"
   ]
  },
  {
   "cell_type": "markdown",
   "metadata": {},
   "source": [
    "<a id='CON3_M'></a>\n",
    "### Összefüggőség és fokszámok 2\n",
    "Ha $N_G(v)\\cap N_G(w)=\\emptyset$, akkor $n\\ge N_G(v)+N_G(w)+2>n$ lenne, ami lehetetlen.\n",
    "<br>\n",
    "\n",
    "[vissza a feladathoz](#CON3)"
   ]
  },
  {
   "cell_type": "markdown",
   "metadata": {},
   "source": [
    "<a id='PATH1_M'></a>\n",
    "### Utak és fokszámok\n",
    "Legyen $d=\\delta(G)>0$. Ha $d=0$ vagy $1$ az állítás triviális. \n",
    "<br>\n",
    "Azt látjuk be hogy tetszőleges $v$ csúcsból indul $d$ hosszú út. Legyen $v=v_1,v_2$ a keresett út eleje.\n",
    "<br> \n",
    "Mikor bővíthetünk biztosan egy $k\\ge 1$ hosszú $v_1,\\ldots,v_{k+1}$ utat? \n",
    "Ha $v_{k+1}$ fokszámát még nem használtuk el, <br>azaz $k<d$, hiszen ekkor van olyan $v_{k+1}$ szomszéd mely nem szerepel az útban. \n",
    "<br>\n",
    "Ezért valamilyen $d$-hosszú $v_1,v_2,\\ldots,v_{d+1}$ út mindig létezik.\n",
    "<br>\n",
    "[vissza a feladathoz](#PATH1)"
   ]
  },
  {
   "cell_type": "markdown",
   "metadata": {},
   "source": [
    "<a id='CIRC1_M'></a>\n",
    "### Körök és fokszámok\n",
    "Legyen $d=\\delta(G)>1$. Bármely pont rajta van egy $d+1$ hosszú körön.<br>\n",
    "Legyen $v_1$ egy csúcs, a [PATH1](#PATH1) miatt van egy $d$-hosszú, \n",
    "$v_1,v_2,\\ldots,v_{d+1}$ utunk. \n",
    "<br>\n",
    "Ezt bővítsük még amíg lehetséges egy $v_1,v_2,\\ldots,v_{k+1}$ útra. A $v_{k+1}$ $d$ szomszédja a $v_1,\\ldots,v_k$-k közül való. \n",
    "<br>\n",
    "A legkisebb indexű $v_i$-t választva kapunk egy \n",
    "$v_i,v_{i+1},\\ldots,v_{k+1},v_{i}$ *legalább* $d+1$ hosszú kört.\n",
    "\n",
    "\n",
    "[vissza a feladathoz](#CIRC1)"
   ]
  },
  {
   "cell_type": "markdown",
   "metadata": {},
   "source": [
    "<a id='TREE1_M'></a>\n",
    "### Fák\n",
    "Tfh. $G$ fa $n>1$ csúccsal. Távolítsuk el egy elsőfokú pontját és a rá illeszkedő élt. Ami marad: fa. Ezt $n-1$-szer ismételve \n",
    "egy pontra zsugorodik a fánk.<br>\n",
    "\n",
    "Tfh. $G$ éleinek száma $n-1$. Tekintsük egy körét ha van. Ha eltávolítjuk a kör egy élét az összefüggőség nem sérül. (a kör maradék élei átveszik a kidobott él szerepét) Ha ezt $k$-szor kellett ismételni, akkor egy $n$ csúcsú $n-1-k$ élű fát látunk, ami az előző miatt csak $k=0$-nál lehet.\n",
    "\n",
    "\n",
    "[vissza a feladathoz](#TREE1)"
   ]
  },
  {
   "cell_type": "markdown",
   "metadata": {},
   "source": [
    "## Források\n",
    "\n",
    "- a budapesti Fazék [könyvei](https://matkonyv.fazekas.hu/index.html)<br>\n",
    "- [Linköping](http://courses.mai.liu.se/GU/TATA64/Document/ExercisesInGraphTheory2017.pdf)<br>\n",
    "- [PTE](http://tamop412a.ttk.pte.hu/files/Kombinatorika_kesz_jav3_final.pdf)\n"
   ]
  },
  {
   "cell_type": "code",
   "execution_count": null,
   "metadata": {},
   "outputs": [],
   "source": []
  }
 ],
 "metadata": {
  "@webio": {
   "lastCommId": "7642b0e010204b5b82a743ddea745b21",
   "lastKernelId": "5e58ecb7-2bff-4bf7-9314-a444f8a8d002"
  },
  "kernelspec": {
   "display_name": "Julia 1.1.1",
   "language": "julia",
   "name": "julia-1.1"
  },
  "language_info": {
   "file_extension": ".jl",
   "mimetype": "application/julia",
   "name": "julia",
   "version": "1.1.1"
  },
  "toc": {
   "base_numbering": 1,
   "nav_menu": {},
   "number_sections": true,
   "sideBar": true,
   "skip_h1_title": true,
   "title_cell": "Table of Contents",
   "title_sidebar": "Contents",
   "toc_cell": false,
   "toc_position": {
    "height": "calc(100% - 180px)",
    "left": "10px",
    "top": "150px",
    "width": "275.2px"
   },
   "toc_section_display": true,
   "toc_window_display": true
  }
 },
 "nbformat": 4,
 "nbformat_minor": 2
}
